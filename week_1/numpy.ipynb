{
 "cells": [
  {
   "cell_type": "code",
   "execution_count": 1,
   "metadata": {
    "collapsed": true
   },
   "outputs": [],
   "source": [
    "import numpy as np"
   ]
  },
  {
   "cell_type": "code",
   "execution_count": 9,
   "metadata": {
    "collapsed": true
   },
   "outputs": [],
   "source": [
    "A = np.random.normal(size = (100, 50), scale=10, loc=1)"
   ]
  },
  {
   "cell_type": "code",
   "execution_count": 10,
   "metadata": {},
   "outputs": [
    {
     "data": {
      "text/plain": [
       "array([[ 15.78816188,   9.06533655,   4.49997424, ...,  11.50442997,\n",
       "         11.47119301,  22.27229976],\n",
       "       [ 27.55620893,  -3.46141509,  27.37541765, ...,   4.49121455,\n",
       "        -13.65402872, -17.21584588],\n",
       "       [  1.67180813,   1.91830141,  -2.48661996, ..., -10.11413214,\n",
       "          4.03592619, -17.1109147 ],\n",
       "       ..., \n",
       "       [ -5.33239013,   0.49129714,  -4.76850848, ...,  10.91950291,\n",
       "         -4.84115236,  -9.52546636],\n",
       "       [  3.10294384,   4.30781217,   0.69775845, ...,   0.10017749,\n",
       "          6.09795784,  -3.19814266],\n",
       "       [ -6.53387459,  16.41151932,  -1.45935167, ...,   1.36294438,\n",
       "          0.10500248,   3.93972286]])"
      ]
     },
     "execution_count": 10,
     "metadata": {},
     "output_type": "execute_result"
    }
   ],
   "source": [
    "A"
   ]
  },
  {
   "cell_type": "code",
   "execution_count": 11,
   "metadata": {},
   "outputs": [
    {
     "data": {
      "text/plain": [
       "array([ 3.51860248,  0.35628672, -0.31567129,  0.88822234,  0.30978102,\n",
       "        0.51194694,  1.0331189 ,  1.65362586,  0.01013632,  0.50619604,\n",
       "        0.02867995,  1.07601504,  1.5527621 ,  1.62336832,  0.46098968,\n",
       "        3.78376559,  0.70325894,  0.07763421,  2.08728114,  0.77845521,\n",
       "        0.60983801,  1.4299323 ,  1.90759848,  0.08550572,  2.07752505,\n",
       "        1.36223873,  1.12747055, -0.40518933,  1.75125871,  0.5062447 ,\n",
       "        0.77510974,  0.60925622,  1.12368725,  0.49933704,  2.04892429,\n",
       "       -0.92168684,  1.21988176,  2.82987757,  1.41735162,  0.32454967,\n",
       "       -0.3355386 ,  1.5722461 ,  1.34524999, -0.10581894,  1.31221545,\n",
       "        1.48383158, -1.38501474,  0.94496818,  1.78013973,  0.97954042])"
      ]
     },
     "execution_count": 11,
     "metadata": {},
     "output_type": "execute_result"
    }
   ],
   "source": [
    "m = np.mean(A, axis=0)\n",
    "m"
   ]
  },
  {
   "cell_type": "code",
   "execution_count": 23,
   "metadata": {},
   "outputs": [],
   "source": [
    "A = np.ones(shape=(3,3))"
   ]
  },
  {
   "cell_type": "code",
   "execution_count": 24,
   "metadata": {},
   "outputs": [],
   "source": [
    "B = np.zeros(shape=(3,3))"
   ]
  },
  {
   "cell_type": "code",
   "execution_count": 25,
   "metadata": {},
   "outputs": [
    {
     "data": {
      "text/plain": [
       "array([[ 1.,  1.,  1.],\n",
       "       [ 1.,  1.,  1.],\n",
       "       [ 1.,  1.,  1.]])"
      ]
     },
     "execution_count": 25,
     "metadata": {},
     "output_type": "execute_result"
    }
   ],
   "source": [
    "A"
   ]
  },
  {
   "cell_type": "code",
   "execution_count": 26,
   "metadata": {},
   "outputs": [
    {
     "data": {
      "text/plain": [
       "array([[ 0.,  0.,  0.],\n",
       "       [ 0.,  0.,  0.],\n",
       "       [ 0.,  0.,  0.]])"
      ]
     },
     "execution_count": 26,
     "metadata": {},
     "output_type": "execute_result"
    }
   ],
   "source": [
    "B"
   ]
  },
  {
   "cell_type": "code",
   "execution_count": 28,
   "metadata": {},
   "outputs": [],
   "source": [
    "AB = np.vstack((A, B))"
   ]
  },
  {
   "cell_type": "code",
   "execution_count": 29,
   "metadata": {},
   "outputs": [
    {
     "data": {
      "text/plain": [
       "array([[ 1.,  1.,  1.],\n",
       "       [ 1.,  1.,  1.],\n",
       "       [ 1.,  1.,  1.],\n",
       "       [ 0.,  0.,  0.],\n",
       "       [ 0.,  0.,  0.],\n",
       "       [ 0.,  0.,  0.]])"
      ]
     },
     "execution_count": 29,
     "metadata": {},
     "output_type": "execute_result"
    }
   ],
   "source": [
    "AB"
   ]
  },
  {
   "cell_type": "code",
   "execution_count": null,
   "metadata": {
    "collapsed": true
   },
   "outputs": [],
   "source": []
  }
 ],
 "metadata": {
  "kernelspec": {
   "display_name": "Python 3",
   "language": "python",
   "name": "python3"
  },
  "language_info": {
   "codemirror_mode": {
    "name": "ipython",
    "version": 3
   },
   "file_extension": ".py",
   "mimetype": "text/x-python",
   "name": "python",
   "nbconvert_exporter": "python",
   "pygments_lexer": "ipython3",
   "version": "3.6.3"
  }
 },
 "nbformat": 4,
 "nbformat_minor": 2
}
